{
 "cells": [
  {
   "cell_type": "code",
   "execution_count": 1,
   "metadata": {},
   "outputs": [],
   "source": [
    "import numpy as np\n",
    "import cv2\n",
    "\n",
    "from PIL import Image, ImageDraw, ImageFont\n",
    "from paz.pipelines import MiniXceptionFER"
   ]
  },
  {
   "cell_type": "code",
   "execution_count": 2,
   "metadata": {},
   "outputs": [
    {
     "name": "stdout",
     "output_type": "stream",
     "text": [
      "Starting Script...\n",
      "Webcam Found.\n",
      "Running....\n",
      "{'class_name': 'happy', 'scores': array([[0.12207675, 0.00096837, 0.0815364 , 0.4300024 , 0.06874629,\n",
      "        0.08743784, 0.20923193]], dtype=float32)}\n",
      "{'class_name': 'happy', 'scores': array([[0.07092734, 0.00093555, 0.09279921, 0.41345865, 0.10600664,\n",
      "        0.08928292, 0.22658959]], dtype=float32)}\n",
      "{'class_name': 'happy', 'scores': array([[0.10828674, 0.0024242 , 0.15013313, 0.24148329, 0.12837572,\n",
      "        0.13677359, 0.23252338]], dtype=float32)}\n",
      "{'class_name': 'happy', 'scores': array([[0.11746912, 0.00168051, 0.10611448, 0.3306078 , 0.10437419,\n",
      "        0.12320238, 0.21655147]], dtype=float32)}\n",
      "{'class_name': 'happy', 'scores': array([[0.15718566, 0.00315781, 0.11519028, 0.28458747, 0.10192055,\n",
      "        0.13940932, 0.1985489 ]], dtype=float32)}\n",
      "{'class_name': 'happy', 'scores': array([[0.13764386, 0.00370913, 0.1606093 , 0.26728696, 0.10765143,\n",
      "        0.14432359, 0.17877576]], dtype=float32)}\n",
      "{'class_name': 'happy', 'scores': array([[0.12317587, 0.00200007, 0.14033872, 0.27636963, 0.11947819,\n",
      "        0.11073177, 0.22790568]], dtype=float32)}\n",
      "{'class_name': 'happy', 'scores': array([[0.09344817, 0.00085932, 0.11055928, 0.36746767, 0.12918712,\n",
      "        0.08505295, 0.2134255 ]], dtype=float32)}\n",
      "Stopping...\n"
     ]
    }
   ],
   "source": [
    "# Initialize emotion classifier\n",
    "classifier = MiniXceptionFER()\n",
    "emotions = ['angry', 'disgust', 'fear', 'happy', 'sad', 'surprise', 'neutral']\n",
    "\n",
    "print(\"Starting Script...\")\n",
    "cap = cv2.VideoCapture(0)\n",
    "\n",
    "if not cap.isOpened():\n",
    "    print(\"Error: Could not open webcam.\")\n",
    "    exit()\n",
    "else:\n",
    "    print(\"Webcam Found.\")\n",
    "\n",
    "\n",
    "print(\"Running....\")\n",
    "while True:\n",
    "    # Capture frame-by-frame\n",
    "    ret, frame = cap.read()\n",
    "    if not ret:\n",
    "        print(\"Failed to grab frame\")\n",
    "        break\n",
    "\n",
    "    cv2.imshow(\"Webcam - Press 'c' to Capture - Press 'q' to exit\", frame)\n",
    "\n",
    "    key = cv2.waitKey(1) & 0xFF\n",
    "\n",
    "    # If 'c' is pressed, capture image and classify\n",
    "    if key == ord('c'):\n",
    "        captured_image = frame\n",
    "\n",
    "        # Convert image from BGR (OpenCV) to RGB (PAZ expects RGB)\n",
    "        rgb_image = cv2.cvtColor(captured_image, cv2.COLOR_BGR2RGB)\n",
    "\n",
    "        # Predict and show image\n",
    "        predictions = classifier(rgb_image)\n",
    "        print(predictions)\n",
    "\n",
    "        scores = predictions[\"scores\"][0]\n",
    "        class_index = np.argmax(scores)  \n",
    "        emotion = emotions[class_index]  # Map to the correct emotion name\n",
    "        confidence = np.max(scores)  \n",
    "\n",
    "        text = f\"{emotion.upper()} ({confidence:.2%})\"\n",
    "\n",
    "        # Convert to PIL image for editing\n",
    "        pil_image = Image.fromarray(rgb_image)\n",
    "        draw = ImageDraw.Draw(pil_image)\n",
    "        font = ImageFont.load_default()\n",
    "\n",
    "        draw.text((10, 10), text, font=font, fill=(0, 255, 0))\n",
    "        pil_image.show()\n",
    "\n",
    "\n",
    "    elif key == ord('q'):\n",
    "        print(\"Stopping...\")\n",
    "        break\n",
    "\n",
    "# Release resources\n",
    "cap.release()\n",
    "cv2.destroyAllWindows()"
   ]
  }
 ],
 "metadata": {
  "kernelspec": {
   "display_name": ".venv",
   "language": "python",
   "name": "python3"
  },
  "language_info": {
   "codemirror_mode": {
    "name": "ipython",
    "version": 3
   },
   "file_extension": ".py",
   "mimetype": "text/x-python",
   "name": "python",
   "nbconvert_exporter": "python",
   "pygments_lexer": "ipython3",
   "version": "3.11.3"
  }
 },
 "nbformat": 4,
 "nbformat_minor": 2
}
