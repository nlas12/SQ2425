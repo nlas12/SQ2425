{
 "cells": [
  {
   "cell_type": "code",
   "execution_count": 1,
   "metadata": {},
   "outputs": [],
   "source": [
    "from PIL import Image\n",
    "from numpy import asarray\n",
    "from paz.pipelines import MiniXceptionFER"
   ]
  },
  {
   "cell_type": "code",
   "execution_count": 2,
   "metadata": {},
   "outputs": [],
   "source": [
    "emotions = [\"Anger\", \"Contempt\", \"Disgust\", \"Fear\", \"Happy\", \"Neutral\", \"Sad\", \"Suprised\"]"
   ]
  },
  {
   "cell_type": "code",
   "execution_count": 5,
   "metadata": {},
   "outputs": [
    {
     "name": "stdout",
     "output_type": "stream",
     "text": [
      "JPEG\n",
      "(3880, 5184)\n",
      "RGB\n"
     ]
    },
    {
     "data": {
      "text/plain": [
       "{'class_name': 'neutral',\n",
       " 'scores': array([[0.13247669, 0.00651476, 0.01112644, 0.35317189, 0.12061383,\n",
       "         0.00324964, 0.37284675]], dtype=float32)}"
      ]
     },
     "execution_count": 5,
     "metadata": {},
     "output_type": "execute_result"
    }
   ],
   "source": [
    "image = Image.open(\"./data/images/0/Anger.jpg\")\n",
    "print(image.format)\n",
    "print(image.size)\n",
    "print(image.mode)\n",
    "\n",
    "numpy_image = asarray(image)\n",
    "classify = MiniXceptionFER()\n",
    "inference = classify(numpy_image)\n",
    "\n",
    "inference"
   ]
  }
 ],
 "metadata": {
  "kernelspec": {
   "display_name": ".venv",
   "language": "python",
   "name": "python3"
  },
  "language_info": {
   "codemirror_mode": {
    "name": "ipython",
    "version": 3
   },
   "file_extension": ".py",
   "mimetype": "text/x-python",
   "name": "python",
   "nbconvert_exporter": "python",
   "pygments_lexer": "ipython3",
   "version": "3.11.3"
  }
 },
 "nbformat": 4,
 "nbformat_minor": 2
}
